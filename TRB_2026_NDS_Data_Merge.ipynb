{
 "cells": [
  {
   "cell_type": "markdown",
   "id": "cc2d646a",
   "metadata": {},
   "source": [
    "### Read The files"
   ]
  },
  {
   "cell_type": "code",
   "execution_count": 1,
   "id": "7ac3a03f",
   "metadata": {},
   "outputs": [],
   "source": [
    "# Define file paths\n",
    "base_path = \"S:\\TRB paper 2025 ISA\"\n",
    "file_names = [\n",
    "    \"1-EventDetailTable.xlsx\",  # Base file\n",
    "    \"2-DriverDemographicQuestionnaire.xlsx\",\n",
    "    \"3-DrivingHistoryQuestionnaire.xlsx\",\n",
    "    \"4-DrivingKnowledgeSurvery.xlsx\",\n",
    "    \"5-BarkleysADHDScore.xlsx\",\n",
    "    \"8-VisualAndCognitivetest.xlsx\",\n",
    "    \"9-SensationSeekingScaleQuestionnaire.xlsx\"\n",
    "]"
   ]
  },
  {
   "cell_type": "markdown",
   "id": "73e26ac2",
   "metadata": {},
   "source": [
    "### Drop Columns "
   ]
  },
  {
   "cell_type": "code",
   "execution_count": 2,
   "id": "33682850",
   "metadata": {},
   "outputs": [],
   "source": [
    "import pandas as pd\n",
    "import os\n",
    "# Step 1: Load Event table and drop specified columns\n",
    "event_df = pd.read_excel(os.path.join(base_path, file_names[0]))\n",
    "columns_to_drop = [\"eventID\", \"crashSeverity1\", \"driverBehavior\", \"secondaryTask1Outcome\", \"fault\"]\n",
    "event_df = event_df.drop(columns=[col for col in columns_to_drop])\n",
    "merged_df = event_df.copy()"
   ]
  },
  {
   "cell_type": "code",
   "execution_count": 3,
   "id": "73b9fb43",
   "metadata": {},
   "outputs": [],
   "source": [
    "# Step 2: Merge Denographic questionaire\n",
    "Demograph_df = pd.read_excel(\"2-DriverDemographicQuestionnaire.xlsx\")\n",
    "# Detect the participant ID column\n",
    "columns_to_drop = ['Participant Receive License'] \n",
    "Demograph_df= Demograph_df.drop(columns=[col for col in columns_to_drop])\n",
    "Merged_demograph = pd.merge(merged_df, Demograph_df, on='anonymousParticipantID', how='left')\n",
    "\n",
    "#Step 3: Merge Driving History Questionnaire\n",
    "Temp_df = pd.read_excel(\"3-DrivingHistoryQuestionnaire.xlsx\")\n",
    "# Detect the participant ID column\n",
    "columns_to_drop = ['Average annualMiles'] \n",
    "Temp_df= Temp_df.drop(columns=[col for col in columns_to_drop])\n",
    "Merged_demograph = pd.merge(Merged_demograph, Temp_df, on='anonymousParticipantID', how='left')\n",
    "\n",
    "\n",
    "#Step 4: Merge Driving Knowledge Survey \n",
    "Temp_df = pd.read_excel(\"4-DrivingKnowledgeSurvery.xlsx\")\n",
    "# Detect the participant ID column\n",
    "Merged_demograph = pd.merge(Merged_demograph, Temp_df, on='anonymousParticipantID', how='left')\n",
    "\n",
    "\n",
    "#Step 5: Merge Driving Knowledge Survey \n",
    "Temp_df = pd.read_excel(\"5-BarkleysADHDScore.xlsx\")\n",
    "# Detect the participant ID column\n",
    "Merged_demograph = pd.merge(Merged_demograph, Temp_df, on='anonymousParticipantID', how='left')\n",
    "\n",
    "\n",
    "#Step 6: Merge VIsual Impairment Questionnaire\n",
    "Temp_df = pd.read_excel(\"8-VisualAndCognitivetest.xlsx\")\n",
    "# Detect the participant ID column\n",
    "columns_to_drop = ['Impairment level UFOV']\n",
    "\n",
    "Temp_df= Temp_df.drop(columns=[col for col in columns_to_drop])\n",
    "Merged_demograph = pd.merge(Merged_demograph, Temp_df, on='anonymousParticipantID', how='left')\n",
    "\n",
    "\n",
    "#Step 7: Merge Sensation SeekingScale  Questionnaire\n",
    "Temp_df = pd.read_excel(\"9-SensationSeekingScaleQuestionnaire.xlsx\")\n",
    "# Detect the participant ID column\n",
    "columns_to_drop = ['Bordem summSensationSeeking', 'Disinhibtion sumSensationSeeking', \n",
    "                   'Experience Seeking SumSensationSeeking', 'Thrill Seeking sumSensationSeeking']\n",
    "\n",
    "Temp_df= Temp_df.drop(columns=[col for col in columns_to_drop])\n",
    "Merged_demograph = pd.merge(Merged_demograph, Temp_df, on='anonymousParticipantID', how='left')"
   ]
  },
  {
   "cell_type": "code",
   "execution_count": 7,
   "id": "9e4ca1f1",
   "metadata": {},
   "outputs": [
    {
     "name": "stdout",
     "output_type": "stream",
     "text": [
      "10_Merged_TRB_2025 S:\\TRB paper 2025 ISA\\10_Merged_TRB_2025.xlsx\n"
     ]
    }
   ],
   "source": [
    "# Step 3: Save merged result\n",
    "output_path = os.path.join(base_path, \"10_Merged_TRB_2025.xlsx\")\n",
    "Merged_demograph.to_excel(output_path, index=False)\n",
    "\n",
    "print(\"10_Merged_TRB_2025\", output_path)\n",
    "#print(Merged_demograph.head())"
   ]
  }
 ],
 "metadata": {
  "kernelspec": {
   "display_name": "Mario",
   "language": "python",
   "name": "myenv"
  },
  "language_info": {
   "codemirror_mode": {
    "name": "ipython",
    "version": 3
   },
   "file_extension": ".py",
   "mimetype": "text/x-python",
   "name": "python",
   "nbconvert_exporter": "python",
   "pygments_lexer": "ipython3",
   "version": "3.8.20"
  }
 },
 "nbformat": 4,
 "nbformat_minor": 5
}
